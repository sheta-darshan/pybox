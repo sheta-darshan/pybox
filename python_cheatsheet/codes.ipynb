{
 "cells": [
  {
   "cell_type": "code",
   "execution_count": null,
   "metadata": {},
   "outputs": [],
   "source": [
    "# Sorting by Second Element\n",
    "data = [(1, 'zpple'), (2, 'banana'), (3, 'cherry')] #change data and check output\n",
    "sorted_by_second = sorted(data, key=lambda el: el[1])\n",
    "print(sorted_by_second)"
   ]
  },
  {
   "cell_type": "code",
   "execution_count": null,
   "metadata": {},
   "outputs": [],
   "source": [
    "# Sorting by Both Elements\n",
    "data = [(2, 'banana'), (1, 'banana'), (3, 'cherry')] #change data and check output\n",
    "sorted_by_both = sorted(data, key=lambda el: (el[1], el[0]))\n",
    "print(sorted_by_both)"
   ]
  },
  {
   "cell_type": "code",
   "execution_count": null,
   "metadata": {},
   "outputs": [],
   "source": [
    "#Flatten a List of Lists\n",
    "import itertools\n",
    "\n",
    "list_of_lists = [[1, 2], [3, 4], [5, 6]]\n",
    "flatter_list = list(itertools.chain.from_iterable(list_of_lists))\n",
    "print(flatter_list)"
   ]
  },
  {
   "cell_type": "code",
   "execution_count": null,
   "metadata": {},
   "outputs": [],
   "source": [
    "#Product of Elements\n",
    "from functools import reduce\n",
    "\n",
    "numbers = [1, 2, 3, 4]\n",
    "product_of_elems = reduce(lambda out, el: out * el, numbers)\n",
    "print(product_of_elems)"
   ]
  },
  {
   "cell_type": "code",
   "execution_count": null,
   "metadata": {},
   "outputs": [],
   "source": [
    "# Convert String to List of Characters\n",
    "# Purpose: Convert a string into a list of its characters.\n",
    "\n",
    "# Syntax: list(<str>)\n",
    "\n",
    "# Example:\n",
    "\n",
    "string = \"hello\"\n",
    "list_of_chars = list(string)\n",
    "print(list_of_chars)"
   ]
  },
  {
   "cell_type": "code",
   "execution_count": 3,
   "metadata": {},
   "outputs": [],
   "source": []
  }
 ],
 "metadata": {
  "kernelspec": {
   "display_name": ".venv",
   "language": "python",
   "name": "python3"
  },
  "language_info": {
   "codemirror_mode": {
    "name": "ipython",
    "version": 3
   },
   "file_extension": ".py",
   "mimetype": "text/x-python",
   "name": "python",
   "nbconvert_exporter": "python",
   "pygments_lexer": "ipython3",
   "version": "3.11.5"
  }
 },
 "nbformat": 4,
 "nbformat_minor": 2
}
