{
 "cells": [
  {
   "cell_type": "code",
   "execution_count": null,
   "metadata": {},
   "outputs": [],
   "source": [
    "# This is a comment\n",
    "string1 = \"string1\"\n",
    "string2 = \"string2\"\n",
    "concatenated_string = string1 + string2 \n",
    "result = \"Hello\" + \" John\"\n",
    "x=7 \n",
    "# Integer Value \n",
    "y=12.4 \n",
    "# Float Value \n",
    "is_valid = True \n",
    "# Boolean Value \n",
    "is_valid = False \n",
    "# Boolean Value \n",
    "F_Name = \"John\" \n",
    "# String Value\n",
    "my_string=\"Hello\" \n",
    "char = my_string[0]\n",
    "string_name = \"string_name\"\n",
    "len(string_name)\n",
    "my_string=\"Hello\" \n",
    "length = len(my_string)\n",
    "my_string=\"Hello\" \n",
    "uppercase_text = my_string.lower()\n",
    "print(\"Hello, world\")\n",
    "a =\"Hello\"\n",
    "b = \"World\"\n",
    "print(a+b)\n",
    "x = 9\n",
    "y = 4 \n",
    "result_add= x + y # Addition \n",
    "result_sub= x - y # Subtraction \n",
    "result_mul= x * y # Multiplication \n",
    "result_div= x / y # Division \n",
    "result_fdiv= x // y # Floor Division \n",
    "result_mod= x % y # Modulo</td>\n",
    "my_string=\"Hello\" \n",
    "new_text = my_string.replace(\"Hello\", \"Hi\")\n",
    "substring = string_name[start:end] \n",
    "my_string=\"Hello\" \n",
    "substring = my_string[0:5]\n",
    "my_string=\"Hello\" \n",
    "split_text = my_string.split(\",\")\n",
    "my_string=\"Hello\" \n",
    "trimmed = my_string.strip()\n",
    "my_string=\"Hello\" \n",
    "uppercase_text = my_string.upper()\n",
    "variable_name = \"value\" #example \n",
    "name=\"John\" # assigning John to variable name \n",
    "x = 5 # assigning 5 to variable x"
   ]
  },
  {
   "cell_type": "code",
   "execution_count": null,
   "metadata": {},
   "outputs": [],
   "source": [
    "# Sorting by Second Element\n",
    "data = [(1, 'zpple'), (2, 'banana'), (3, 'cherry')] #change data and check output\n",
    "sorted_by_second = sorted(data, key=lambda el: el[1])\n",
    "print(sorted_by_second)"
   ]
  },
  {
   "cell_type": "code",
   "execution_count": null,
   "metadata": {},
   "outputs": [],
   "source": [
    "# Sorting by Both Elements\n",
    "data = [(2, 'banana'), (1, 'banana'), (3, 'cherry')] #change data and check output\n",
    "sorted_by_both = sorted(data, key=lambda el: (el[1], el[0]))\n",
    "print(sorted_by_both)"
   ]
  },
  {
   "cell_type": "code",
   "execution_count": null,
   "metadata": {},
   "outputs": [],
   "source": [
    "#Flatten a List of Lists\n",
    "import itertools\n",
    "\n",
    "list_of_lists = [[1, 2], [3, 4], [5, 6]]\n",
    "flatter_list = list(itertools.chain.from_iterable(list_of_lists))\n",
    "print(flatter_list)"
   ]
  },
  {
   "cell_type": "code",
   "execution_count": null,
   "metadata": {},
   "outputs": [],
   "source": [
    "#Product of Elements\n",
    "from functools import reduce\n",
    "\n",
    "numbers = [1, 2, 3, 4]\n",
    "product_of_elems = reduce(lambda out, el: out * el, numbers)\n",
    "print(product_of_elems)"
   ]
  },
  {
   "cell_type": "code",
   "execution_count": null,
   "metadata": {},
   "outputs": [],
   "source": [
    "# Convert String to List of Characters\n",
    "# Purpose: Convert a string into a list of its characters.\n",
    "\n",
    "# Syntax: list(<str>)\n",
    "\n",
    "# Example:\n",
    "\n",
    "string = \"hello\"\n",
    "list_of_chars = list(string)\n",
    "print(list_of_chars)"
   ]
  },
  {
   "cell_type": "markdown",
   "metadata": {},
   "source": [
    "<int> = len(<list>)\n",
    "\n",
    "Description: Returns the number of items in the list. It also works on other collection types like tuples, sets, dictionaries, etc.\n",
    "Example:"
   ]
  },
  {
   "cell_type": "code",
   "execution_count": null,
   "metadata": {},
   "outputs": [],
   "source": [
    "my_list = [1, 2, 3, 4]\n",
    "print(len(my_list))  # Output: 4"
   ]
  },
  {
   "cell_type": "markdown",
   "metadata": {},
   "source": [
    "<int> = <list>.count(<el>)\n",
    "\n",
    "Description: Returns the number of occurrences of the element <el> in the list.\n",
    "Example:"
   ]
  },
  {
   "cell_type": "code",
   "execution_count": null,
   "metadata": {},
   "outputs": [],
   "source": [
    "my_list = [1, 2, 3, 2, 2]\n",
    "print(my_list.count(2))  # Output: 3"
   ]
  },
  {
   "cell_type": "markdown",
   "metadata": {},
   "source": [
    "<int> = <list>.index(<el>)\n",
    "\n",
    "Description: Returns the index of the first occurrence of the element <el>. If the element is not found, it raises a ValueError.\n",
    "Example:"
   ]
  },
  {
   "cell_type": "code",
   "execution_count": null,
   "metadata": {},
   "outputs": [],
   "source": [
    "my_list = [1, 2, 3, 2]\n",
    "print(my_list.index(2))  # Output: 1"
   ]
  },
  {
   "cell_type": "markdown",
   "metadata": {},
   "source": [
    "<el> = <list>.pop()\n",
    "\n",
    "Description: Removes and returns the item at the end of the list. If an index is passed as an argument, it removes and returns the item at that index. Raises IndexError if the list is empty.\n",
    "Example:"
   ]
  },
  {
   "cell_type": "code",
   "execution_count": null,
   "metadata": {},
   "outputs": [],
   "source": [
    "my_list = [1, 2, 3]\n",
    "popped_item = my_list.pop()  # Returns 3 and removes it from the list\n",
    "print(my_list)  # Output: [1, 2]"
   ]
  },
  {
   "cell_type": "markdown",
   "metadata": {},
   "source": [
    "<list>.insert(<int>, <el>)\n",
    "\n",
    "Description: Inserts the element <el> at the specified index <int>. The items after the inserted element are shifted to the right.\n",
    "Example:"
   ]
  },
  {
   "cell_type": "code",
   "execution_count": null,
   "metadata": {},
   "outputs": [],
   "source": [
    "my_list = [1, 2, 4]\n",
    "my_list.insert(2, 3)  # Inserts 3 at index 2\n",
    "print(my_list)  # Output: [1, 2, 3, 4]"
   ]
  },
  {
   "cell_type": "markdown",
   "metadata": {},
   "source": [
    "<list>.remove(<el>)\n",
    "\n",
    "Description: Removes the first occurrence of the element <el> from the list. Raises ValueError if the element is not found.\n",
    "Example:"
   ]
  },
  {
   "cell_type": "code",
   "execution_count": null,
   "metadata": {},
   "outputs": [],
   "source": [
    "my_list = [1, 2, 3, 2]\n",
    "my_list.remove(2)  # Removes the first occurrence of 2\n",
    "print(my_list)  # Output: [1, 3, 2]"
   ]
  },
  {
   "cell_type": "markdown",
   "metadata": {},
   "source": [
    "<list>.clear()\n",
    "\n",
    "Description: Removes all elements from the list, making it empty. This method also works for other mutable collections like dictionaries and sets.\n",
    "Example:"
   ]
  },
  {
   "cell_type": "code",
   "execution_count": null,
   "metadata": {},
   "outputs": [],
   "source": [
    "my_list = [1, 2, 3]\n",
    "my_list.clear()\n",
    "print(my_list)  # Output: []"
   ]
  },
  {
   "cell_type": "code",
   "execution_count": 8,
   "metadata": {},
   "outputs": [
    {
     "name": "stdout",
     "output_type": "stream",
     "text": [
      "101\n"
     ]
    }
   ],
   "source": [
    " a = 1 \n",
    "def do(x): \n",
    "    a = 100 \n",
    "    return x + a \n",
    "\n",
    "\n",
    "print(do(1))"
   ]
  },
  {
   "cell_type": "code",
   "execution_count": 11,
   "metadata": {},
   "outputs": [],
   "source": [
    "Lines = [\"This is line 1\", \"This is line 2\", \"This is line 3\"]\n",
    "new_data = \"This is line D\"\n",
    "with open('C:/Users/sheta/100 Days of code/pybox/python_cheatsheet/Example3.txt', 'a') as file3:  # Fixed file path\n",
    "    file3.write(new_data + \"\\n\")"
   ]
  },
  {
   "cell_type": "code",
   "execution_count": null,
   "metadata": {},
   "outputs": [],
   "source": []
  }
 ],
 "metadata": {
  "kernelspec": {
   "display_name": ".venv",
   "language": "python",
   "name": "python3"
  },
  "language_info": {
   "codemirror_mode": {
    "name": "ipython",
    "version": 3
   },
   "file_extension": ".py",
   "mimetype": "text/x-python",
   "name": "python",
   "nbconvert_exporter": "python",
   "pygments_lexer": "ipython3",
   "version": "3.11.5"
  }
 },
 "nbformat": 4,
 "nbformat_minor": 2
}
